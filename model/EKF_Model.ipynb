{
 "cells": [
  {
   "cell_type": "code",
   "execution_count": 26,
   "id": "213c1206",
   "metadata": {},
   "outputs": [],
   "source": [
    "import sympy as sp\n",
    "import numpy as np"
   ]
  },
  {
   "cell_type": "code",
   "execution_count": 49,
   "id": "0b0a4d5a",
   "metadata": {},
   "outputs": [],
   "source": [
    "class EKF:\n",
    "    \n",
    "    def __init__(self, x0, P0, Q, R, updateX, updateY, JacX, JacY):\n",
    "        self.X_prev = x0\n",
    "        self.P = P0\n",
    "        self.Q = Q\n",
    "        self.R = R\n",
    "        self.updateX = updateX\n",
    "        self.updateY = updateY\n",
    "        self.JacX = JacX\n",
    "        self.JacY = JacY\n",
    "    "
   ]
  },
  {
   "cell_type": "code",
   "execution_count": 50,
   "id": "b9915232",
   "metadata": {},
   "outputs": [],
   "source": [
    "q0, q1, q2, q3 = sp.symbols(r\"q_{0} q_{1} q_{2} q_{3}\")\n",
    "pitch, roll, yaw = sp.symbols(r\" \\theta \\phi \\psi\")\n",
    "p, q, r = sp.symbols(\"p q r\")\n",
    "dt = sp.symbols(r\"\\delta_{T}\")\n",
    "\n",
    "Bx, By, Bz = sp.symbols(r\"B_{x} B_{y} B_{z}\")\n",
    "\n",
    "X = sp.Matrix([q0, q1, q2, q3])\n",
    "U = sp.Matrix([p, q, r])\n",
    "\n",
    "g = sp.Matrix([0, 0, 1])\n",
    "B = sp.Matrix([Bx, By, Bz])"
   ]
  },
  {
   "cell_type": "code",
   "execution_count": 70,
   "id": "50164000",
   "metadata": {},
   "outputs": [],
   "source": [
    "def skewSym(U):\n",
    "    p, q, r = U[0], U[1], U[2]\n",
    "    w = sp.Matrix([[0, -p, -q, -r],\n",
    "                   [p, 0, r, -q],\n",
    "                   [q, -r, 0, p],\n",
    "                   [r, q, -p, 0]])\n",
    "    return w\n",
    "\n",
    "def updateX(X, U):\n",
    "    X_next = 0.5 * skewSym(U) @ X\n",
    "    X_next = sp.simplify(X_next)\n",
    "    return X_next\n",
    "    \n",
    "def JacX(X, U):\n",
    "    X_next = X + updateX(X, U) * dt\n",
    "    jacX = X_next.jacobian(X) \n",
    "    jacX = sp.simplify(jacX)\n",
    "    return jacX\n",
    "\n",
    "def quatDCM(X):\n",
    "    q0, q1, q2, q3 = X\n",
    "    DCM = sp.zeros(3,3)\n",
    "    DCM[0,0] = q0*q0 + q1*q1 - q2*q2 - q3*q3\n",
    "    DCM[0,1] = 2 * (q1*q2 + q0*q3)\n",
    "    DCM[0,2] = 2 * (q1*q3 - q0*q2)\n",
    "    DCM[1,0] = 2 * (q1*q2 - q0*q3)\n",
    "    DCM[1,1] = q0*q0 - q1*q1 + q2*q2 - q3*q3\n",
    "    DCM[1,2] = 2 * (q2*q3 + q0*q1)\n",
    "    DCM[2,0] = 2 * (q1*q3 + q0*q2)\n",
    "    DCM[2,1] = 2 * (q2*q3 - q0*q1)\n",
    "    DCM[2,2] = q0*q0 - q1*q1 - q2*q2 + q3*q3\n",
    "    return DCM\n",
    "\n",
    "def updateY(X, U):\n",
    "    Y = sp.zeros(6,1)\n",
    "    DCM = quat(X)\n",
    "    Y[0:3, 0] = DCM @ g\n",
    "    Y[3:, 0] = DCM @ B\n",
    "    return Y\n",
    "\n",
    "def JacY(X, U):\n",
    "    Y = updateY(X, U)\n",
    "    jacY = Y.jacobian(X)\n",
    "    return sp.simplify(jacY)"
   ]
  },
  {
   "cell_type": "code",
   "execution_count": 71,
   "id": "b2159842",
   "metadata": {},
   "outputs": [],
   "source": [
    "def Ry(x):\n",
    "    return sp.Matrix([[ sp.cos(x), 0,  sp.sin(x)],\n",
    "                      [ 0,         1,  0        ],\n",
    "                      [-sp.sin(x), 0,  sp.cos(x)]])\n",
    "\n",
    "def Rx(x):\n",
    "    return sp.Matrix([[1,          0,         0],\n",
    "                      [0,  sp.cos(x), -sp.sin(x)],\n",
    "                      [0,  sp.sin(x),  sp.cos(x)]])\n",
    "\n",
    "def Rz(x):\n",
    "    return sp.Matrix([[ sp.cos(x), -sp.sin(x), 0],\n",
    "                      [ sp.sin(x),  sp.cos(x), 0],\n",
    "                      [0,       0,            1]])"
   ]
  },
  {
   "cell_type": "code",
   "execution_count": 72,
   "id": "866011ce",
   "metadata": {},
   "outputs": [],
   "source": [
    "def quat2euler(q):\n",
    "    q0, q1, q2, q3 = q\n",
    "    \n",
    "    phi = np.arctan2(2 * (q0*q1 + q2*q3), 1 - 2*(q1*q1 + q2*q2))\n",
    "    theta = np.arcsin(2 * (q0*q2 - q3*q1))\n",
    "    psi = np.arctan2(2 * (q0*q3 + q1*q2), 1 - 2*(q2*q2 + q3*q3))\n",
    "    \n",
    "    return np.array([phi, theta, psi])\n",
    "\n",
    "def euler2quat(angles):\n",
    "    roll, pitch, yaw = angles\n",
    "    \n",
    "    cy = np.cos(yaw * 0.5)\n",
    "    sy = np.sin(yaw * 0.5)\n",
    "    cp = np.cos(pitch * 0.5)\n",
    "    sp = np.sin(pitch * 0.5)\n",
    "    cr = np.cos(roll * 0.5)\n",
    "    sr = np.sin(roll * 0.5)\n",
    "    \n",
    "    q = np.zeros(4)\n",
    "    \n",
    "    q[0] = cr * cp * cy + sr * sp * sy;\n",
    "    q[1] = sr * cp * cy - cr * sp * sy;\n",
    "    q[2] = cr * sp * cy + sr * cp * sy;\n",
    "    q[3] = cr * cp * sy - sr * sp * cy;\n",
    "    \n",
    "    return q"
   ]
  },
  {
   "cell_type": "code",
   "execution_count": 87,
   "id": "55582b52",
   "metadata": {
    "scrolled": true
   },
   "outputs": [
    {
     "data": {
      "text/latex": [
       "$\\displaystyle \\left[\\begin{matrix}\\cos{\\left(\\psi \\right)} \\cos{\\left(\\theta \\right)} & \\sin{\\left(\\psi \\right)} \\cos{\\left(\\theta \\right)} & - \\sin{\\left(\\theta \\right)}\\\\\\sin{\\left(\\phi \\right)} \\sin{\\left(\\theta \\right)} \\cos{\\left(\\psi \\right)} - \\sin{\\left(\\psi \\right)} \\cos{\\left(\\phi \\right)} & \\sin{\\left(\\phi \\right)} \\sin{\\left(\\psi \\right)} \\sin{\\left(\\theta \\right)} + \\cos{\\left(\\phi \\right)} \\cos{\\left(\\psi \\right)} & \\sin{\\left(\\phi \\right)} \\cos{\\left(\\theta \\right)}\\\\\\sin{\\left(\\phi \\right)} \\sin{\\left(\\psi \\right)} + \\sin{\\left(\\theta \\right)} \\cos{\\left(\\phi \\right)} \\cos{\\left(\\psi \\right)} & - \\sin{\\left(\\phi \\right)} \\cos{\\left(\\psi \\right)} + \\sin{\\left(\\psi \\right)} \\sin{\\left(\\theta \\right)} \\cos{\\left(\\phi \\right)} & \\cos{\\left(\\phi \\right)} \\cos{\\left(\\theta \\right)}\\end{matrix}\\right]$"
      ],
      "text/plain": [
       "Matrix([\n",
       "[                                cos(\\psi)*cos(\\theta),                                  sin(\\psi)*cos(\\theta),          -sin(\\theta)],\n",
       "[sin(\\phi)*sin(\\theta)*cos(\\psi) - sin(\\psi)*cos(\\phi),  sin(\\phi)*sin(\\psi)*sin(\\theta) + cos(\\phi)*cos(\\psi), sin(\\phi)*cos(\\theta)],\n",
       "[sin(\\phi)*sin(\\psi) + sin(\\theta)*cos(\\phi)*cos(\\psi), -sin(\\phi)*cos(\\psi) + sin(\\psi)*sin(\\theta)*cos(\\phi), cos(\\phi)*cos(\\theta)]])"
      ]
     },
     "execution_count": 87,
     "metadata": {},
     "output_type": "execute_result"
    }
   ],
   "source": [
    "eulDCM = (Rz(yaw) @ Ry(pitch) @ Rx(roll)).transpose()\n",
    "quatDCM = calcDCM(X)\n",
    "\n",
    "eulDCM"
   ]
  },
  {
   "cell_type": "code",
   "execution_count": 84,
   "id": "66a9a550",
   "metadata": {},
   "outputs": [
    {
     "name": "stdout",
     "output_type": "stream",
     "text": [
      "[[-0.12121212 -0.21212121 -0.96969697]\n",
      " [-0.51515152  0.84848485 -0.12121212]\n",
      " [ 0.84848485  0.48484848 -0.21212121]]\n",
      "[[-0.12121212 -0.21212121 -0.96969697]\n",
      " [-0.51515152  0.84848485 -0.12121212]\n",
      " [ 0.84848485  0.48484848 -0.21212121]]\n"
     ]
    }
   ],
   "source": [
    "q = np.array([0.5, -0.2, 0.6, 0.1])\n",
    "q /= np.linalg.norm(q)\n",
    "eul = quat2euler(q)\n",
    "\n",
    "print(eulDCM(*eul))\n",
    "print(quatDCM(q))"
   ]
  },
  {
   "cell_type": "code",
   "execution_count": null,
   "id": "a12d0c3f",
   "metadata": {},
   "outputs": [],
   "source": []
  }
 ],
 "metadata": {
  "kernelspec": {
   "display_name": "Python 3 (ipykernel)",
   "language": "python",
   "name": "python3"
  },
  "language_info": {
   "codemirror_mode": {
    "name": "ipython",
    "version": 3
   },
   "file_extension": ".py",
   "mimetype": "text/x-python",
   "name": "python",
   "nbconvert_exporter": "python",
   "pygments_lexer": "ipython3",
   "version": "3.9.6"
  }
 },
 "nbformat": 4,
 "nbformat_minor": 5
}

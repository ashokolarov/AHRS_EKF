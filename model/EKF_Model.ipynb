{
 "cells": [
  {
   "cell_type": "code",
   "execution_count": 9,
   "id": "213c1206",
   "metadata": {},
   "outputs": [],
   "source": [
    "import sympy as sp\n",
    "import numpy as np"
   ]
  },
  {
   "cell_type": "code",
   "execution_count": 10,
   "id": "0b0a4d5a",
   "metadata": {},
   "outputs": [],
   "source": [
    "class EKF:\n",
    "    \n",
    "    def __init__(self, x0, P0, Q, R, updateX, updateY, JacX, JacY):\n",
    "        self.X_prev = x0\n",
    "        self.P = P0\n",
    "        self.Q = Q\n",
    "        self.R = R\n",
    "        self.updateX = updateX\n",
    "        self.updateY = updateY\n",
    "        self.JacX = JacX\n",
    "        self.JacY = JacY\n",
    "    "
   ]
  },
  {
   "cell_type": "code",
   "execution_count": 11,
   "id": "b9915232",
   "metadata": {},
   "outputs": [],
   "source": [
    "q0, q1, q2, q3 = sp.symbols(r\"q_{0} q_{1} q_{2} q_{3}\")\n",
    "pitch, roll, yaw = sp.symbols(r\" \\theta \\phi \\psi\")\n",
    "p, q, r = sp.symbols(\"p q r\")\n",
    "dt = sp.symbols(r\"\\delta_{T}\")\n",
    "\n",
    "Bx, By, Bz = sp.symbols(r\"B_{x} B_{y} B_{z}\")\n",
    "\n",
    "X = sp.Matrix([q0, q1, q2, q3])\n",
    "U = sp.Matrix([p, q, r])\n",
    "\n",
    "g = sp.Matrix([0, 0, 1])\n",
    "B = sp.Matrix([Bx, By, Bz])"
   ]
  },
  {
   "cell_type": "code",
   "execution_count": 14,
   "id": "50164000",
   "metadata": {},
   "outputs": [],
   "source": [
    "def skewSym(U):\n",
    "    p, q, r = U[0], U[1], U[2]\n",
    "    w = sp.Matrix([[0, -p, -q, -r],\n",
    "                   [p, 0, r, -q],\n",
    "                   [q, -r, 0, p],\n",
    "                   [r, q, -p, 0]])\n",
    "    return w\n",
    "\n",
    "def updateX(X, U):\n",
    "    X_next = 0.5 * skewSym(U) @ X\n",
    "    X_next = sp.simplify(X_next)\n",
    "    return X_next\n",
    "    \n",
    "def JacX(X, U):\n",
    "    X_next = X + updateX(X, U) * dt\n",
    "    jacX = X_next.jacobian(X) \n",
    "    jacX = sp.simplify(jacX)\n",
    "    return jacX\n",
    "\n",
    "def quatDCM(X):\n",
    "    q0, q1, q2, q3 = X\n",
    "    DCM = sp.zeros(3,3)\n",
    "    DCM[0,0] = q0*q0 + q1*q1 - q2*q2 - q3*q3\n",
    "    DCM[0,1] = 2 * (q1*q2 + q0*q3)\n",
    "    DCM[0,2] = 2 * (q1*q3 - q0*q2)\n",
    "    DCM[1,0] = 2 * (q1*q2 - q0*q3)\n",
    "    DCM[1,1] = q0*q0 - q1*q1 + q2*q2 - q3*q3\n",
    "    DCM[1,2] = 2 * (q2*q3 + q0*q1)\n",
    "    DCM[2,0] = 2 * (q1*q3 + q0*q2)\n",
    "    DCM[2,1] = 2 * (q2*q3 - q0*q1)\n",
    "    DCM[2,2] = q0*q0 - q1*q1 - q2*q2 + q3*q3\n",
    "    return DCM\n",
    "\n",
    "def updateY(X, U):\n",
    "    Y = sp.zeros(6,1)\n",
    "    DCM = quatDCM(X)\n",
    "    Y[0:3, 0] = DCM @ g\n",
    "    Y[3:, 0] = DCM @ B\n",
    "    return Y\n",
    "\n",
    "def JacY(X, U):\n",
    "    Y = updateY(X, U)\n",
    "    jacY = Y.jacobian(X)\n",
    "    return sp.simplify(jacY)"
   ]
  },
  {
   "cell_type": "code",
   "execution_count": null,
   "id": "5b973c6c",
   "metadata": {},
   "outputs": [],
   "source": [
    "updateX = sp.lambdify([X,U])"
   ]
  }
 ],
 "metadata": {
  "kernelspec": {
   "display_name": "Python 3 (ipykernel)",
   "language": "python",
   "name": "python3"
  },
  "language_info": {
   "codemirror_mode": {
    "name": "ipython",
    "version": 3
   },
   "file_extension": ".py",
   "mimetype": "text/x-python",
   "name": "python",
   "nbconvert_exporter": "python",
   "pygments_lexer": "ipython3",
   "version": "3.9.6"
  }
 },
 "nbformat": 4,
 "nbformat_minor": 5
}
